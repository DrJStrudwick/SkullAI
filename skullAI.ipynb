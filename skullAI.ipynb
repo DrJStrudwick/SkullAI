{
 "cells": [
  {
   "cell_type": "markdown",
   "metadata": {},
   "source": [
    "# Skull AI"
   ]
  },
  {
   "cell_type": "markdown",
   "metadata": {},
   "source": [
    "The objective here is to make AI/Bots that can play the deception board/tile game: Skull. See this link [LINK] to a video showing how to play and then the flow diagram in the gitrepo showing the decision flow for  a player."
   ]
  },
  {
   "cell_type": "markdown",
   "metadata": {},
   "source": [
    "### Library imports"
   ]
  },
  {
   "cell_type": "code",
   "execution_count": 115,
   "metadata": {},
   "outputs": [],
   "source": [
    "import random"
   ]
  },
  {
   "cell_type": "markdown",
   "metadata": {},
   "source": [
    "### Player and Game classes"
   ]
  },
  {
   "cell_type": "markdown",
   "metadata": {},
   "source": [
    "Player class.\n",
    "Decisions for the bot to make:\n",
    " - To bet or place another tile\n",
    "     - binary classifications\n",
    " - What tile to place\n",
    "     - binary classification\n",
    " - what to bet\n",
    "     - multiclass classification/ integer prediction\n",
    " - to bet or pass\n",
    "     - binary classification\n",
    " - who to pick when seeking\n",
    "     - multiclass classification\n",
    " \n",
    "Defining a class for the player:\n",
    " - a player needs to be able to place a flower and skull [DONE]\n",
    " - a player needs to be able to remove a tile\n",
    "     - randomly if they're skulled by somone else [DONE]\n",
    "     - choose if they skull themselves\n",
    " - "
   ]
  },
  {
   "cell_type": "code",
   "execution_count": 124,
   "metadata": {},
   "outputs": [],
   "source": [
    "class skullPlayer:\n",
    "    def __init__(self):\n",
    "        self.flowers=3\n",
    "        self.skull=1\n",
    "        self.totalTiles=4\n",
    "        self.hasSkull=True\n",
    "        self.placedTiles=[]\n",
    "        self.point=0\n",
    "        \n",
    "    def summary(self):\n",
    "        print(\"Flowers: {}\\nSkull: {}\\nPoint: {}\".format(self.flowers,self.skull,self.point))\n",
    "    \n",
    "    def placeFlower(self):\n",
    "        if len(self.placedTiles)<self.totalTiles:\n",
    "            if (len(self.placedTiles)-sum(self.placedTiles))<self.flowers:\n",
    "                self.placedTiles.append(False)\n",
    "                \n",
    "    def placeSkull(self):\n",
    "        if len(self.placedTiles)<self.totalTiles:\n",
    "            if self.hasSkull & (sum(self.placedTiles)==0):\n",
    "                self.placedTiles.append(True)\n",
    "                \n",
    "    def reset(self):\n",
    "        self.placedTiles=[]\n",
    "                \n",
    "    def removeRandom(self):\n",
    "        if self.hasSkull:\n",
    "            if random.choice([True]+[False]*self.flowers):\n",
    "                self.skull+=-1\n",
    "                self.hasSkull=False\n",
    "            else:\n",
    "                self.flowers+=-1\n",
    "        else:\n",
    "            self.flowers+=-1\n",
    "        self.totalTiles+=-1\n",
    "        self.reset()"
   ]
  },
  {
   "cell_type": "markdown",
   "metadata": {},
   "source": [
    "Game glass"
   ]
  },
  {
   "cell_type": "code",
   "execution_count": null,
   "metadata": {},
   "outputs": [],
   "source": [
    "class skullGame:\n",
    "    def __init__(self,player1,player2,player3,player4):\n",
    "        self.playerArray = [player1,player2,player3,player4]"
   ]
  },
  {
   "cell_type": "markdown",
   "metadata": {},
   "source": [
    "## Testing zone"
   ]
  },
  {
   "cell_type": "code",
   "execution_count": 125,
   "metadata": {},
   "outputs": [],
   "source": [
    "x=skullPlayer()"
   ]
  },
  {
   "cell_type": "code",
   "execution_count": 126,
   "metadata": {},
   "outputs": [
    {
     "name": "stdout",
     "output_type": "stream",
     "text": [
      "Flowers: 3\n",
      "Skull: 1\n",
      "Point: 0\n"
     ]
    }
   ],
   "source": [
    "x.summary()"
   ]
  },
  {
   "cell_type": "code",
   "execution_count": 127,
   "metadata": {},
   "outputs": [
    {
     "data": {
      "text/plain": [
       "[False]"
      ]
     },
     "execution_count": 127,
     "metadata": {},
     "output_type": "execute_result"
    }
   ],
   "source": [
    "x.placeFlower()\n",
    "x.placedTiles"
   ]
  },
  {
   "cell_type": "code",
   "execution_count": 128,
   "metadata": {},
   "outputs": [
    {
     "data": {
      "text/plain": [
       "[False, True]"
      ]
     },
     "execution_count": 128,
     "metadata": {},
     "output_type": "execute_result"
    }
   ],
   "source": [
    "x.placeSkull()\n",
    "x.placedTiles"
   ]
  },
  {
   "cell_type": "code",
   "execution_count": 129,
   "metadata": {},
   "outputs": [
    {
     "data": {
      "text/plain": [
       "[False, True]"
      ]
     },
     "execution_count": 129,
     "metadata": {},
     "output_type": "execute_result"
    }
   ],
   "source": [
    "x.placeSkull()\n",
    "x.placedTiles"
   ]
  },
  {
   "cell_type": "code",
   "execution_count": 130,
   "metadata": {},
   "outputs": [],
   "source": [
    "x.removeRandom()"
   ]
  },
  {
   "cell_type": "code",
   "execution_count": 131,
   "metadata": {},
   "outputs": [
    {
     "name": "stdout",
     "output_type": "stream",
     "text": [
      "Flowers: 2\n",
      "Skull: 1\n",
      "Point: 0\n"
     ]
    }
   ],
   "source": [
    "x.summary()"
   ]
  },
  {
   "cell_type": "code",
   "execution_count": 132,
   "metadata": {},
   "outputs": [
    {
     "data": {
      "text/plain": [
       "[]"
      ]
     },
     "execution_count": 132,
     "metadata": {},
     "output_type": "execute_result"
    }
   ],
   "source": [
    "x.placedTiles"
   ]
  },
  {
   "cell_type": "code",
   "execution_count": 139,
   "metadata": {},
   "outputs": [],
   "source": [
    "l=[skullPlayer() for x in range(0,4)]"
   ]
  },
  {
   "cell_type": "code",
   "execution_count": 140,
   "metadata": {},
   "outputs": [
    {
     "data": {
      "text/plain": [
       "[<__main__.skullPlayer at 0x7fa3d044c7f0>,\n",
       " <__main__.skullPlayer at 0x7fa3d044c070>,\n",
       " <__main__.skullPlayer at 0x7fa3d044c640>,\n",
       " <__main__.skullPlayer at 0x7fa3d044c100>]"
      ]
     },
     "execution_count": 140,
     "metadata": {},
     "output_type": "execute_result"
    }
   ],
   "source": [
    "l"
   ]
  },
  {
   "cell_type": "code",
   "execution_count": 141,
   "metadata": {},
   "outputs": [],
   "source": [
    "l[0].removeRandom()"
   ]
  },
  {
   "cell_type": "code",
   "execution_count": 142,
   "metadata": {},
   "outputs": [
    {
     "name": "stdout",
     "output_type": "stream",
     "text": [
      "Flowers: 2\n",
      "Skull: 1\n",
      "Point: 0\n"
     ]
    }
   ],
   "source": [
    "l[0].summary()"
   ]
  },
  {
   "cell_type": "code",
   "execution_count": 143,
   "metadata": {},
   "outputs": [
    {
     "name": "stdout",
     "output_type": "stream",
     "text": [
      "Flowers: 3\n",
      "Skull: 1\n",
      "Point: 0\n"
     ]
    }
   ],
   "source": [
    "l[1].summary()"
   ]
  },
  {
   "cell_type": "code",
   "execution_count": null,
   "metadata": {},
   "outputs": [],
   "source": []
  }
 ],
 "metadata": {
  "kernelspec": {
   "display_name": "Python 3",
   "language": "python",
   "name": "python3"
  },
  "language_info": {
   "codemirror_mode": {
    "name": "ipython",
    "version": 3
   },
   "file_extension": ".py",
   "mimetype": "text/x-python",
   "name": "python",
   "nbconvert_exporter": "python",
   "pygments_lexer": "ipython3",
   "version": "3.8.3"
  }
 },
 "nbformat": 4,
 "nbformat_minor": 4
}
