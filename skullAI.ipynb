{
 "cells": [
  {
   "cell_type": "markdown",
   "metadata": {},
   "source": [
    "# Skull AI"
   ]
  },
  {
   "cell_type": "markdown",
   "metadata": {},
   "source": [
    "The objective here is to make AI/Bots that can play the deception board/tile game: Skull. See this link [LINK] to a video showing how to play and then the flow diagram in the gitrepo showing the decision flow for  a player.\n",
    "\n",
    "ASSUMPTIONS:\n",
    " - Only 4 players in a game\n",
    " - for now, wont pay attention to previous rounds\n",
    " - simple terms (linear)"
   ]
  },
  {
   "cell_type": "markdown",
   "metadata": {},
   "source": [
    "### Library imports"
   ]
  },
  {
   "cell_type": "code",
   "execution_count": 187,
   "metadata": {},
   "outputs": [],
   "source": [
    "import random\n",
    "from numpy.random import rand, choice\n",
    "import numpy as np"
   ]
  },
  {
   "cell_type": "markdown",
   "metadata": {},
   "source": [
    "### Player and Game classes"
   ]
  },
  {
   "cell_type": "markdown",
   "metadata": {},
   "source": [
    "Player class.\n",
    "Decisions for the bot to make:\n",
    " - What tile to place first\n",
    " - To bet or place another tile\n",
    "     - binary classifications\n",
    " - What tile to place\n",
    "     - binary classification\n",
    " - what to bet\n",
    "     - multiclass classification/ integer prediction\n",
    " - to bet or pass\n",
    "     - binary classification\n",
    " - who to pick when seeking\n",
    "     - multiclass classification\n",
    " \n",
    "Defining a class for the player:\n",
    " - a player needs to be able to place a flower and skull [DONE]\n",
    " - a player needs to be able to remove a tile\n",
    "     - randomly if they're skulled by somone else [DONE]\n",
    "     - choose if they skull themselves\n",
    " - "
   ]
  },
  {
   "cell_type": "code",
   "execution_count": 274,
   "metadata": {},
   "outputs": [],
   "source": [
    "class skullPlayer:\n",
    "    def __init__(self):\n",
    "        self.flowers=3\n",
    "        self.skull=1\n",
    "        self.totalTiles=4\n",
    "        self.hasSkull=True\n",
    "        self.placedTiles=[]\n",
    "        self.point=0\n",
    "        self.theta_tp=(rand(1,30)*2)-1\n",
    "        \n",
    "    def summary(self):\n",
    "        print(\"Flowers: {}\\nSkull: {}\\nPoint: {}\".format(self.flowers,self.skull,self.point))\n",
    "    \n",
    "    def placeFlower(self):\n",
    "        if len(self.placedTiles)<self.totalTiles:\n",
    "            if (len(self.placedTiles)-sum(self.placedTiles))<self.flowers:\n",
    "                self.placedTiles.append(False)\n",
    "                \n",
    "    def placeSkull(self):\n",
    "        if len(self.placedTiles)<self.totalTiles:\n",
    "            if self.hasSkull & (sum(self.placedTiles)==0):\n",
    "                self.placedTiles.append(True)\n",
    "                \n",
    "    def reset(self):\n",
    "        self.placedTiles=[]\n",
    "                \n",
    "    def removeRandom(self):\n",
    "        if self.hasSkull:\n",
    "            if choice([True]+[False]*self.flowers):\n",
    "                self.skull+=-1\n",
    "                self.hasSkull=False\n",
    "            else:\n",
    "                self.flowers+=-1\n",
    "        else:\n",
    "            self.flowers+=-1\n",
    "        self.totalTiles+=-1\n",
    "        self.reset()\n",
    "    \n",
    "    def tileToPlace(self,externalInfo):\n",
    "        \"\"\"\n",
    "        Function to decide what tile to place.\n",
    "        External info should have for each player:\n",
    "        - If they have a point (binary)\n",
    "        - How many tiles they have (numerical)\n",
    "        - How many tiles they have placed (numerical)\n",
    "        - If they have their skull (dual-binary) [1,0] skull, [0,0] unknown, [0,1] no skull \n",
    "        - their place in the turn order (numerical)\n",
    "        - if they're out of the game (binary) [1] out, [0] in\n",
    "        - optional (not implemented)\n",
    "            - if they just lost a tile\n",
    "            - if they just won a point\n",
    "        LAST row should be that on the \"bot\"\n",
    "        Extra\n",
    "        - random float for \"randomness\"\n",
    "        - bias term\n",
    "        therefore external info is a 1x30 vector\n",
    "        \n",
    "        RETURNS\n",
    "        boolean. true, place a skull, false place a flower\n",
    "        \"\"\"\n",
    "        \n",
    "        inVec=np.reshape(y.externalInfo,(-1,1))\n",
    "        inVec=np.concatenate((inVec,np.array([[rand()],[1]])))\n",
    "        \n",
    "        skull = ((1/(1+np.exp(-np.dot(self.theta_tp,inVec))))>=0.5)[0][0]\n",
    "        \n",
    "        if skull:\n",
    "            self.placeSkull()\n",
    "        else:\n",
    "            self.placeFlower()\n",
    "        \n",
    "        return skull"
   ]
  },
  {
   "cell_type": "code",
   "execution_count": 267,
   "metadata": {},
   "outputs": [
    {
     "data": {
      "text/plain": [
       "array([[0],\n",
       "       [4],\n",
       "       [0],\n",
       "       [1],\n",
       "       [0],\n",
       "       [2],\n",
       "       [0],\n",
       "       [0],\n",
       "       [4],\n",
       "       [0],\n",
       "       [1],\n",
       "       [0],\n",
       "       [3],\n",
       "       [0],\n",
       "       [0],\n",
       "       [4],\n",
       "       [0],\n",
       "       [1],\n",
       "       [0],\n",
       "       [4],\n",
       "       [0],\n",
       "       [0],\n",
       "       [4],\n",
       "       [0],\n",
       "       [1],\n",
       "       [0],\n",
       "       [1],\n",
       "       [0]])"
      ]
     },
     "execution_count": 267,
     "metadata": {},
     "output_type": "execute_result"
    }
   ],
   "source": [
    "l=[[0,4,0,1,0,((i-4)%4)+1,0] for i in range(1,5)]\n",
    "#l=[item for sublist in l for item in sublist]\n",
    "np.reshape(np.array(l),(-1,1))"
   ]
  },
  {
   "cell_type": "markdown",
   "metadata": {},
   "source": [
    "Game glass"
   ]
  },
  {
   "cell_type": "code",
   "execution_count": 258,
   "metadata": {},
   "outputs": [],
   "source": [
    "class skullGame:\n",
    "    def __init__(self,player1,player2,player3,player4):\n",
    "        self.playerArray = [player1,player2,player3,player4]\n",
    "        self.firstPlayerOfRound = random.randint(0,len(self.playerArray)-1)\n",
    "        self.externalInfo = np.array([[0,4,0,1,0,((i-self.firstPlayerOfRound)%4)+1,0] for i in range(1,5)])\n",
    "        "
   ]
  },
  {
   "cell_type": "markdown",
   "metadata": {},
   "source": [
    "## Testing zone"
   ]
  },
  {
   "cell_type": "code",
   "execution_count": 275,
   "metadata": {},
   "outputs": [],
   "source": [
    "x=skullPlayer()"
   ]
  },
  {
   "cell_type": "code",
   "execution_count": 126,
   "metadata": {},
   "outputs": [
    {
     "name": "stdout",
     "output_type": "stream",
     "text": [
      "Flowers: 3\n",
      "Skull: 1\n",
      "Point: 0\n"
     ]
    }
   ],
   "source": [
    "x.summary()"
   ]
  },
  {
   "cell_type": "code",
   "execution_count": 127,
   "metadata": {},
   "outputs": [
    {
     "data": {
      "text/plain": [
       "[False]"
      ]
     },
     "execution_count": 127,
     "metadata": {},
     "output_type": "execute_result"
    }
   ],
   "source": [
    "x.placeFlower()\n",
    "x.placedTiles"
   ]
  },
  {
   "cell_type": "code",
   "execution_count": 128,
   "metadata": {},
   "outputs": [
    {
     "data": {
      "text/plain": [
       "[False, True]"
      ]
     },
     "execution_count": 128,
     "metadata": {},
     "output_type": "execute_result"
    }
   ],
   "source": [
    "x.placeSkull()\n",
    "x.placedTiles"
   ]
  },
  {
   "cell_type": "code",
   "execution_count": 129,
   "metadata": {},
   "outputs": [
    {
     "data": {
      "text/plain": [
       "[False, True]"
      ]
     },
     "execution_count": 129,
     "metadata": {},
     "output_type": "execute_result"
    }
   ],
   "source": [
    "x.placeSkull()\n",
    "x.placedTiles"
   ]
  },
  {
   "cell_type": "code",
   "execution_count": 130,
   "metadata": {},
   "outputs": [],
   "source": [
    "x.removeRandom()"
   ]
  },
  {
   "cell_type": "code",
   "execution_count": 131,
   "metadata": {},
   "outputs": [
    {
     "name": "stdout",
     "output_type": "stream",
     "text": [
      "Flowers: 2\n",
      "Skull: 1\n",
      "Point: 0\n"
     ]
    }
   ],
   "source": [
    "x.summary()"
   ]
  },
  {
   "cell_type": "code",
   "execution_count": 132,
   "metadata": {},
   "outputs": [
    {
     "data": {
      "text/plain": [
       "[]"
      ]
     },
     "execution_count": 132,
     "metadata": {},
     "output_type": "execute_result"
    }
   ],
   "source": [
    "x.placedTiles"
   ]
  },
  {
   "cell_type": "code",
   "execution_count": 276,
   "metadata": {},
   "outputs": [],
   "source": [
    "y=skullGame(*[skullPlayer() for x in range(0,4)])"
   ]
  },
  {
   "cell_type": "code",
   "execution_count": 283,
   "metadata": {},
   "outputs": [
    {
     "data": {
      "text/plain": [
       "array([[0, 4, 0, 1, 0, 1, 0],\n",
       "       [0, 4, 0, 1, 0, 2, 0],\n",
       "       [0, 4, 0, 1, 0, 3, 0],\n",
       "       [0, 4, 0, 1, 0, 4, 0]])"
      ]
     },
     "execution_count": 283,
     "metadata": {},
     "output_type": "execute_result"
    }
   ],
   "source": [
    "y.externalInfo"
   ]
  },
  {
   "cell_type": "code",
   "execution_count": 282,
   "metadata": {},
   "outputs": [
    {
     "data": {
      "text/plain": [
       "False"
      ]
     },
     "execution_count": 282,
     "metadata": {},
     "output_type": "execute_result"
    }
   ],
   "source": [
    "x.tileToPlace(y.externalInfo)"
   ]
  },
  {
   "cell_type": "code",
   "execution_count": 139,
   "metadata": {},
   "outputs": [],
   "source": [
    "l=[skullPlayer() for x in range(0,4)]"
   ]
  },
  {
   "cell_type": "code",
   "execution_count": 140,
   "metadata": {},
   "outputs": [
    {
     "data": {
      "text/plain": [
       "[<__main__.skullPlayer at 0x7fa3d044c7f0>,\n",
       " <__main__.skullPlayer at 0x7fa3d044c070>,\n",
       " <__main__.skullPlayer at 0x7fa3d044c640>,\n",
       " <__main__.skullPlayer at 0x7fa3d044c100>]"
      ]
     },
     "execution_count": 140,
     "metadata": {},
     "output_type": "execute_result"
    }
   ],
   "source": [
    "l"
   ]
  },
  {
   "cell_type": "code",
   "execution_count": 141,
   "metadata": {},
   "outputs": [],
   "source": [
    "l[0].removeRandom()"
   ]
  },
  {
   "cell_type": "code",
   "execution_count": 142,
   "metadata": {},
   "outputs": [
    {
     "name": "stdout",
     "output_type": "stream",
     "text": [
      "Flowers: 2\n",
      "Skull: 1\n",
      "Point: 0\n"
     ]
    }
   ],
   "source": [
    "l[0].summary()"
   ]
  },
  {
   "cell_type": "code",
   "execution_count": 143,
   "metadata": {},
   "outputs": [
    {
     "name": "stdout",
     "output_type": "stream",
     "text": [
      "Flowers: 3\n",
      "Skull: 1\n",
      "Point: 0\n"
     ]
    }
   ],
   "source": [
    "l[1].summary()"
   ]
  },
  {
   "cell_type": "code",
   "execution_count": 160,
   "metadata": {},
   "outputs": [
    {
     "data": {
      "text/plain": [
       "4"
      ]
     },
     "execution_count": 160,
     "metadata": {},
     "output_type": "execute_result"
    }
   ],
   "source": [
    "choice([5,4,3])"
   ]
  },
  {
   "cell_type": "code",
   "execution_count": 231,
   "metadata": {},
   "outputs": [
    {
     "data": {
      "text/plain": [
       "0.12313718484775915"
      ]
     },
     "execution_count": 231,
     "metadata": {},
     "output_type": "execute_result"
    }
   ],
   "source": [
    "(rand()*2)-1"
   ]
  },
  {
   "cell_type": "code",
   "execution_count": null,
   "metadata": {},
   "outputs": [],
   "source": []
  }
 ],
 "metadata": {
  "kernelspec": {
   "display_name": "Python 3",
   "language": "python",
   "name": "python3"
  },
  "language_info": {
   "codemirror_mode": {
    "name": "ipython",
    "version": 3
   },
   "file_extension": ".py",
   "mimetype": "text/x-python",
   "name": "python",
   "nbconvert_exporter": "python",
   "pygments_lexer": "ipython3",
   "version": "3.8.3"
  }
 },
 "nbformat": 4,
 "nbformat_minor": 4
}
