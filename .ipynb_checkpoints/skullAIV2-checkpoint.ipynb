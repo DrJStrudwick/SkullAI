{
 "cells": [
  {
   "cell_type": "code",
   "execution_count": 1,
   "metadata": {},
   "outputs": [],
   "source": [
    "import random\n",
    "from numpy.random import rand, choice\n",
    "import numpy as np\n",
    "import pandas as pd"
   ]
  },
  {
   "cell_type": "code",
   "execution_count": 350,
   "metadata": {},
   "outputs": [],
   "source": [
    "class skullPlayer:\n",
    "    def __init__(self):\n",
    "        self.flowers = 3       #GR          how many flowers the player currently has\n",
    "        self.skull = 1         #GR          how many skulls the player currently has\n",
    "        self.totalTiles = 4    #GR          how many tiles the player has in total\n",
    "        self.inPlay = True     #GR          is the player still in the game \n",
    "        self.hasPoint = False  #GR          does the player have a point already\n",
    "        self.externalHasSkull = True  #GR*  do the other players know for certain that the player has a skull\n",
    "        self.externalHasNoSkull = False #GR do the other player know the player does not have a skull\n",
    "        self.placedTiles = []  #RR          what tiles the player has currently placed\n",
    "        self.hasPassed = False #RR          has the the player passed in this round of betting\n",
    "        self.currentBet = None #RR          the current bet the player has made\n",
    "        \n",
    "        self.recPosition = None #GR TODO\n",
    "        self.gameState = None #GR TODO\n",
    "        self.betrec = None #RR\n",
    "        self.game = None #GR TODO\n",
    "        \n",
    "        self.theta_tp=(rand(1,30)*2)-1 #AI\n",
    "        self.theta_bp=(rand(1,31)*2)-1 #AI\n",
    "        self.theta_w2b=(rand(12,95)*2-1) #AI\n",
    "        self.theta_bpa=(rand(1,95)*2-1) #AI\n",
    "        self.theta_w2p=(rand(3,73)*2-1) #AI\n",
    "        \n",
    "    def removeTile(self):\n",
    "        if self.inPlay:\n",
    "            if self.skull==0:\n",
    "                self.flowers+=-1\n",
    "            else:\n",
    "                if choice([True]+[False]*self.flowers):\n",
    "                    self.skull+=-1\n",
    "                else:\n",
    "                    self.flowers+=-1\n",
    "\n",
    "            self.totalTiles+=-1\n",
    "            self.externalHasSkull = False\n",
    "\n",
    "            if self.totalTiles==0:\n",
    "                self.inPlay=False\n",
    "                self.gameState.updateFirstPlayer((self.recPosition+1)%4)\n",
    "            else:\n",
    "                self.gameState.updateFirstPlayer(self.recPosition)\n",
    "            self.game.resetRound()\n",
    "        else:\n",
    "            raise NameError(\"Player is not in play\")\n",
    "                \n",
    "    def placeFlower(self):\n",
    "        if self.inPlay & (self.flowers>0):\n",
    "            if (len(self.placedTiles)-sum(self.placedTiles))<self.flowers:\n",
    "                self.placedTiles.append(False)\n",
    "                self.gameState.gatherInfo()\n",
    "            else:\n",
    "                raise NameError('All flowers have been placed')\n",
    "        else:\n",
    "            if ~(self.inPlay):\n",
    "                raise NameError(\"Player is not in play\")\n",
    "            else:\n",
    "                raise NameError('No flowers to place')\n",
    "    \n",
    "    def placeSkull(self):\n",
    "        if self.inPlay & (self.skull>0):\n",
    "            if any(self.placedTiles):\n",
    "                raise NameError('Skull has been placed')\n",
    "            else:\n",
    "                self.placedTiles.append(True)\n",
    "                self.gameState.gatherInfo()\n",
    "        else:\n",
    "            if ~(self.inPlay):\n",
    "                raise NameError(\"Player is not in play\")\n",
    "            else:\n",
    "                raise NameError('No Skull to place')\n",
    "                \n",
    "    def resetRound(self):\n",
    "        self.placedTiles=[]\n",
    "        self.hasPassed = False\n",
    "        self.currentBet = None\n",
    "        \n",
    "    def resetGame(self):\n",
    "        self.flowers=3\n",
    "        self.skull=1\n",
    "        self.totalTiles=4\n",
    "        self.inPlay=True\n",
    "        self.hasPoint = False\n",
    "        self.externalHasSkull = True\n",
    "        self.externalHasNoSkull = False\n",
    "        \n",
    "        self.recPosition = None\n",
    "        self.gameState = None\n",
    "        \n",
    "        self.resetRound()\n",
    "        \n",
    "    def playerSummary(self):\n",
    "        print(\"Flowers: {}\\nSkull: {}\\nPlaced tiles: {}\".format(self.flowers,self.skull, self.placedTiles))\n",
    "        \n",
    "    def placeTile(self):\n",
    "        if self.inPlay & (len(self.placedTiles)<self.totalTiles):\n",
    "            if any(self.placedTiles):\n",
    "                self.placeFlower()\n",
    "            elif (len(self.placedTiles)-sum(self.placedTiles))==self.flowers:\n",
    "                self.placeSkull()\n",
    "            else:\n",
    "                self.chooseTileToPlace()\n",
    "        else:\n",
    "            if ~(self.inPlay):\n",
    "                raise NameError(\"Player is not in play\")\n",
    "            else:\n",
    "                raise NameError('Max number of tiles placed')\n",
    "            \n",
    "    def chooseTileToPlace(self):\n",
    "        \"\"\"\n",
    "        Function to decide what tile to place.\n",
    "        External info should have for each player:\n",
    "        - If they have a point (binary)\n",
    "        - How many tiles they have (numerical)\n",
    "        - How many tiles they have placed (numerical)\n",
    "        - If they have their skull (dual-binary) [1,0] skull, [0,0] unknown, [0,1] no skull \n",
    "        - their place in the turn order (numerical)\n",
    "        - if they're out of the game (binary) [1] out, [0] in\n",
    "        - optional (not implemented)\n",
    "            - if they just lost a tile\n",
    "            - if they just won a point\n",
    "        LAST row should be that on the \"bot\"\n",
    "        Extra\n",
    "        - random float for \"randomness\"\n",
    "        - bias term\n",
    "        therefore external info is a 1x30 vector\n",
    "        \n",
    "        RETURNS\n",
    "        boolean. true, place a skull, false place a flower\n",
    "        \"\"\"\n",
    "        if self.inPlay:\n",
    "            inVec=np.reshape(self.gameState.state,(-1,1))\n",
    "            inVec=np.concatenate((inVec,np.array([[rand()],[1]])))\n",
    "\n",
    "            skull = ((1/(1+np.exp(-np.dot(self.theta_tp,inVec))))>=0.5)[0][0]\n",
    "\n",
    "            if skull:\n",
    "                self.placeSkull()\n",
    "            else:\n",
    "                self.placeFlower()\n",
    "        else:\n",
    "            raise NameError(\"Player is not in play\")\n",
    "            \n",
    "    def betOrPlace(self): \n",
    "        \"\"\"\n",
    "        Function to decide to start the betting or place another tile\n",
    "        Same input variables as choosing what to place and \n",
    "        -include if they have placed a skull already (binary) [1] have placed a skull\n",
    "        EXTRA\n",
    "        - random float for \"randomness\"\n",
    "        - bais term\n",
    "        \n",
    "        RETURNS\n",
    "        boolean. true, make a bet, false, place a tile\n",
    "        \"\"\"\n",
    "        if self.inPlay:\n",
    "            if len(self.placedTiles)<self.totalTiles:\n",
    "                inVec=np.reshape(self.gameState.state,(-1,1))\n",
    "                inVec=np.concatenate((inVec,np.array([[int(any(self.placedTiles))],[rand()],[1]])))\n",
    "\n",
    "                betOrPlace = ((1/(1+np.exp(-np.dot(self.theta_bp,inVec))))>=0.5)[0][0]\n",
    "\n",
    "                if betOrPlace:\n",
    "                    bet = self.whatToBet()\n",
    "                    print(\"Player bets: {}\".format(bet))\n",
    "                    self.currentBet=bet\n",
    "                    self.betrec.playerbet(self.recPosition,bet)\n",
    "                    self.game.stage+=1\n",
    "                else:\n",
    "                    self.placeTile()\n",
    "                    print(\"Tile placed\")\n",
    "            else:\n",
    "                bet = self.whatToBet()\n",
    "                print(\"Player bets: {}\".format(bet))\n",
    "                self.currentBet=bet\n",
    "                self.betrec.playerbet(self.recPosition,bet)\n",
    "                self.game.stage+=1\n",
    "        else:\n",
    "            raise NameError(\"Player is not in play\")\n",
    "            \n",
    "            \n",
    "    def whatToBet(self):\n",
    "        \"\"\"\n",
    "        Function to decide what to bet\n",
    "        Uses the board state record and the current betRecord. Also uses if they player has placed a skull, random float, bias and a list of available bets\n",
    "        \"\"\"\n",
    "        if self.inPlay:\n",
    "            inVec=np.concatenate((np.reshape(self.gameState.state,(-1,1)),\n",
    "                                  np.reshape(self.betrec.betRecord,(-1,1)),np.array([[int(any(self.placedTiles))],[rand()],[1]])))\n",
    "            availableBets=np.zeros((1,12))\n",
    "            availableBets[:,0:sum(np.array(self.gameState.state)[:,2])]=1\n",
    "            currentBet=(np.where(self.betrec.betRecord[:,:-1].any(axis=0))[0])\n",
    "            if currentBet.shape[0]==0:\n",
    "                currentBet=0\n",
    "            else:\n",
    "                currentBet=max(currentBet)+1\n",
    "            availableBets[:,0:currentBet]=0\n",
    "            inVec=np.concatenate((inVec,availableBets.T))\n",
    "            bet=np.argmax((1/(1+np.exp(-np.dot(self.theta_w2b,inVec))))*availableBets.T)+1\n",
    "            self.bet=bet\n",
    "            return bet\n",
    "        else:\n",
    "            raise NameError(\"Player is not in play\")\n",
    "    \n",
    "    def betOrPass(self):\n",
    "        \"\"\"\n",
    "        Function to decide to bet or pass\n",
    "        Same input variables as choosing what to place and \n",
    "        -include if they have placed a skull already (binary) [1] have placed a skull\n",
    "        EXTRA\n",
    "        - random float for \"randomness\"\n",
    "        - bais term\n",
    "        \n",
    "        RETURNS\n",
    "        boolean. true, make a bet, false, place a tile\n",
    "        \"\"\"\n",
    "        if self.inPlay & (self.game.stage==0) & ~(self.hasPassed):\n",
    "            inVec=np.concatenate((np.reshape(self.gameState.state,(-1,1)),np.reshape(self.betrec.betRecord,(-1,1)),\n",
    "                                  np.array([[int(any(self.placedTiles))],[rand()],[1]])))\n",
    "            availableBets=np.zeros((1,12))\n",
    "            availableBets[:,0:sum(np.array(self.gameState.state)[:,2])]=1\n",
    "            currentBet=(np.where(self.betrec.betRecord.any(axis=0))[0])\n",
    "            if currentBet.shape[0]==0:\n",
    "                currentBet=0\n",
    "            else:\n",
    "                currentBet=max(currentBet)+1\n",
    "            availableBets[:,0:currentBet]=0\n",
    "            if availableBets.any():\n",
    "                inVec=np.concatenate((inVec,availableBets.T))\n",
    "                betOrPass=(1/(1+np.exp(-np.dot(self.theta_bpa,inVec))))>=0.5\n",
    "\n",
    "                if betOrPass:\n",
    "                    bet = self.whatToBet()\n",
    "                    print(\"Player bets: {}\".format(bet))\n",
    "                    self.currentBet=bet\n",
    "                    self.betrec.playerbet(self.recPosition,bet)\n",
    "\n",
    "                else:\n",
    "                    self.hasPassed=True\n",
    "                    print(\"Player passes\")\n",
    "                    self.betrec.playerPass(self.recPosition)\n",
    "                    if self.betrec.switch:\n",
    "                        self.game.stage+=1\n",
    "            else:\n",
    "                self.hasPassed=True\n",
    "                print(\"Player passes\")\n",
    "                self.betrec.playerPass(self.recPosition)\n",
    "                if self.betrec.switch:\n",
    "                        self.game.stage+=1\n",
    "        else:\n",
    "            if ~(self.inPlay):\n",
    "                raise NameError(\"Player is not in play\")\n",
    "            elif ~(self.game.stage==0):\n",
    "                raise NameError('Not in the betting stage')\n",
    "            \n",
    "    def takeTurn(self): #TO FINISH\n",
    "        if self.inPlay:\n",
    "            if self.game.stage==-1:\n",
    "                self.betOrPlace()\n",
    "            elif self.game.stage==0:\n",
    "                self.betOrPass()\n",
    "            elif self.game.stage==1:\n",
    "                pass #engage seeking function\n",
    "\n",
    "    def whoToPick(self,pickrec): #TO FINISH\n",
    "        \"\"\"\n",
    "        Function to decide whose top tile to turn over when i pick\n",
    "        uses board state, bet rec (does not need self information for these)\n",
    "        and self pick rec\n",
    "        extra\n",
    "         - num of tiles to go\n",
    "         - bias\n",
    "        \"\"\"\n",
    "        inVec=np.concatenate((np.reshape(self.gameState.state,(-1,1)),np.reshape(self.betrec.betRecord,(-1,1)),\n",
    "                              np.reshape(pickrec,(-1,1)),np.array([[1]])))\n",
    "        whoToPick = np.argmax((1/(1+np.exp(-np.dot(self.theta_w2p,inVec))))*pickrec[:,-1].reshape(3,1))\n",
    "        return whoToPick"
   ]
  },
  {
   "cell_type": "code",
   "execution_count": 351,
   "metadata": {},
   "outputs": [],
   "source": [
    "class skullGame:\n",
    "    def __init__(self,player1,player2,player3,player4):\n",
    "        self.playerArray = [player1,player2,player3,player4]\n",
    "        self.firstPlayerOfRound = random.randint(0,len(self.playerArray)-1)\n",
    "        self.gameState = skullGameState(self.firstPlayerOfRound,*self.playerArray)\n",
    "        self.betRec = skullBetRec(*self.playerArray)                               #RR\n",
    "        self.stage = -1                                                            #RR\n",
    "        for i in range(0,4):\n",
    "            player = self.playerArray[i]\n",
    "            player.recPosition=i\n",
    "            player.gameState = self.gameState\n",
    "            player.betrec = self.betRec\n",
    "            player.game = self\n",
    "            player.placeTile()\n",
    "    \n",
    "    def resetRound(self):\n",
    "        self.betRec = skullBetRec(*self.playerArray)\n",
    "        self.stage = -1\n",
    "        self.gameState.gatherInfo()\n",
    "        for i in range(0,4):\n",
    "            player = self.playerArray[i]\n",
    "            player.betrec = self.betRec #potentially redundant\n",
    "            player.resetRound()\n",
    "            player.placeTile()\n",
    "        \n",
    "        \n",
    "class skullGameState:\n",
    "    \"\"\"\n",
    "    External info should have for each player:\n",
    "        - If they have a point (binary)\n",
    "        - How many tiles they have (numerical)\n",
    "        - How many tiles they have placed (numerical)\n",
    "        - If they have their skull (dual-binary) [1,0] skull, [0,0] unknown, [0,1] no skull \n",
    "        - their place in the turn order (numerical)\n",
    "        - if they're out of the game (binary) [1] out, [0] in\n",
    "        - optional (not implemented)\n",
    "            - if they just lost a tile\n",
    "            - if they just won a point\n",
    "    \"\"\"\n",
    "    \n",
    "    def __init__(self,firstPlayer,player1,player2,player3,player4):\n",
    "        self.playerArray = [player1,player2,player3,player4]\n",
    "        self.firstPlayer = firstPlayer\n",
    "        self.state=[]\n",
    "        self.gatherInfo()\n",
    "        \n",
    "        \n",
    "    def gatherInfo(self):\n",
    "        self.state=[]\n",
    "        for i in range(0,4):\n",
    "            player = self.playerArray[i]\n",
    "            self.state.append([int(player.hasPoint),player.totalTiles,len(player.placedTiles),\n",
    "                               int(player.externalHasSkull),int(player.externalHasNoSkull),\n",
    "                               ((i-self.firstPlayer)%4),1-int(player.inPlay)])\n",
    "    \n",
    "    def updateFirstPlayer(self,player):\n",
    "        self.firstPlayer = player\n",
    "\n",
    "class skullBetRec:\n",
    "    def __init__(self,player1,player2,player3,player4):\n",
    "        self.playerArray = [player1,player2,player3,player4]\n",
    "        self.betRecord=np.zeros((len(self.playerArray),(len(self.playerArray)*3)+1))\n",
    "        self.switch = False\n",
    "        for i in range(0,4):\n",
    "            player = self.playerArray[i]\n",
    "            self.betRecord[i,-1] = (1-int(player.inPlay))\n",
    "            \n",
    "    def playerbet(self,playerId,bet):\n",
    "        self.betRecord[playerId,bet-1] = 1\n",
    "    \n",
    "    def playerPass(self,playerId):\n",
    "        self.betRecord[playerId,-1] = 1\n",
    "        if sum(self.betRecord[:,-1])==3:\n",
    "            self.switch=True\n",
    "        \n",
    "class skullPickRec:\n",
    "    def __init__(self,pickerId,player1,player2,player3,player4):\n",
    "        self.pickerId=pickerId\n",
    "        self.playerArray = [player1,player2,player3,player4]\n",
    "        self.pickRecord=[]\n",
    "        for i in range(0,4):\n",
    "            if i==self.pickerId:\n",
    "                continue\n",
    "            else:\n",
    "                player = self.playerArray[i]\n",
    "                self.pickRecord.append([0,len(player.placedTiles),0,int(player.inPlay)])\n",
    "        "
   ]
  },
  {
   "cell_type": "code",
   "execution_count": 352,
   "metadata": {},
   "outputs": [],
   "source": [
    "demoPlayers=[skullPlayer() for x in range(0,4)]\n",
    "demoGame=skullGame(*demoPlayers)"
   ]
  },
  {
   "cell_type": "code",
   "execution_count": 353,
   "metadata": {},
   "outputs": [
    {
     "data": {
      "text/plain": [
       "[[0, 4, 1, 1, 0, 1, 0],\n",
       " [0, 4, 1, 1, 0, 2, 0],\n",
       " [0, 4, 1, 1, 0, 3, 0],\n",
       " [0, 4, 1, 1, 0, 0, 0]]"
      ]
     },
     "execution_count": 353,
     "metadata": {},
     "output_type": "execute_result"
    }
   ],
   "source": [
    "demoGame.gameState.state"
   ]
  },
  {
   "cell_type": "code",
   "execution_count": 354,
   "metadata": {},
   "outputs": [],
   "source": [
    "i = np.argmin(np.array(demoGame.gameState.state)[:,-2])"
   ]
  },
  {
   "cell_type": "code",
   "execution_count": 356,
   "metadata": {},
   "outputs": [
    {
     "name": "stdout",
     "output_type": "stream",
     "text": [
      "Player bets: 5\n",
      "Flowers: 3\n",
      "Skull: 1\n",
      "Placed tiles: [True]\n"
     ]
    },
    {
     "data": {
      "text/plain": [
       "[[0, 4, 1, 1, 0, 1, 0],\n",
       " [0, 4, 1, 1, 0, 2, 0],\n",
       " [0, 4, 1, 1, 0, 3, 0],\n",
       " [0, 4, 2, 1, 0, 0, 0]]"
      ]
     },
     "execution_count": 356,
     "metadata": {},
     "output_type": "execute_result"
    }
   ],
   "source": [
    "demoPlayers[i].betOrPlace()\n",
    "demoPlayers[i].playerSummary()\n",
    "i=(i+1)%4\n",
    "demoGame.gameState.state\n"
   ]
  },
  {
   "cell_type": "code",
   "execution_count": 357,
   "metadata": {},
   "outputs": [
    {
     "data": {
      "text/plain": [
       "array([[0., 0., 0., 0., 1., 0., 0., 0., 0., 0., 0., 0., 0.],\n",
       "       [0., 0., 0., 0., 0., 0., 0., 0., 0., 0., 0., 0., 0.],\n",
       "       [0., 0., 0., 0., 0., 0., 0., 0., 0., 0., 0., 0., 0.],\n",
       "       [0., 0., 0., 0., 0., 0., 0., 0., 0., 0., 0., 0., 0.]])"
      ]
     },
     "execution_count": 357,
     "metadata": {},
     "output_type": "execute_result"
    }
   ],
   "source": [
    "demoGame.betRec.betRecord"
   ]
  },
  {
   "cell_type": "code",
   "execution_count": 349,
   "metadata": {},
   "outputs": [
    {
     "name": "stdout",
     "output_type": "stream",
     "text": [
      "Player passes\n",
      "Flowers: 3\n",
      "Skull: 1\n",
      "Placed tiles: [False]\n"
     ]
    },
    {
     "data": {
      "text/plain": [
       "array([[0., 0., 0., 1., 0., 0., 0., 0., 0., 0., 0., 0., 0.],\n",
       "       [0., 0., 0., 0., 0., 0., 0., 0., 0., 0., 0., 0., 1.],\n",
       "       [0., 0., 0., 0., 0., 0., 0., 0., 0., 0., 0., 0., 1.],\n",
       "       [0., 0., 1., 0., 0., 0., 0., 0., 0., 0., 0., 0., 1.]])"
      ]
     },
     "execution_count": 349,
     "metadata": {},
     "output_type": "execute_result"
    }
   ],
   "source": [
    "demoPlayers[i].betOrPass()\n",
    "demoPlayers[i].playerSummary()\n",
    "i=(i+1)%4\n",
    "demoGame.betRec.betRecord"
   ]
  },
  {
   "cell_type": "code",
   "execution_count": 340,
   "metadata": {},
   "outputs": [],
   "source": [
    "demoGame.resetRound()"
   ]
  },
  {
   "cell_type": "code",
   "execution_count": 312,
   "metadata": {},
   "outputs": [
    {
     "data": {
      "text/plain": [
       "[[0, 4, 1, 1, 0, 0, 0],\n",
       " [0, 4, 1, 1, 0, 1, 0],\n",
       " [0, 4, 1, 1, 0, 2, 0],\n",
       " [0, 4, 1, 1, 0, 3, 0]]"
      ]
     },
     "execution_count": 312,
     "metadata": {},
     "output_type": "execute_result"
    }
   ],
   "source": [
    "demoGame.gameState.state"
   ]
  },
  {
   "cell_type": "code",
   "execution_count": 313,
   "metadata": {},
   "outputs": [
    {
     "data": {
      "text/plain": [
       "array([[0., 0., 0., 0., 0., 0., 0., 0., 0., 0., 0., 0., 0.],\n",
       "       [0., 0., 0., 0., 0., 0., 0., 0., 0., 0., 0., 0., 0.],\n",
       "       [0., 0., 0., 0., 0., 0., 0., 0., 0., 0., 0., 0., 0.],\n",
       "       [0., 0., 0., 0., 0., 0., 0., 0., 0., 0., 0., 0., 0.]])"
      ]
     },
     "execution_count": 313,
     "metadata": {},
     "output_type": "execute_result"
    }
   ],
   "source": [
    "demoGame.betRec.betRecord"
   ]
  },
  {
   "cell_type": "code",
   "execution_count": 317,
   "metadata": {},
   "outputs": [
    {
     "name": "stdout",
     "output_type": "stream",
     "text": [
      "Flowers: 3\n",
      "Skull: 1\n",
      "Placed tiles: [False]\n"
     ]
    }
   ],
   "source": [
    "demoPlayers[3].playerSummary()"
   ]
  },
  {
   "cell_type": "code",
   "execution_count": null,
   "metadata": {},
   "outputs": [],
   "source": []
  }
 ],
 "metadata": {
  "kernelspec": {
   "display_name": "Python 3",
   "language": "python",
   "name": "python3"
  },
  "language_info": {
   "codemirror_mode": {
    "name": "ipython",
    "version": 3
   },
   "file_extension": ".py",
   "mimetype": "text/x-python",
   "name": "python",
   "nbconvert_exporter": "python",
   "pygments_lexer": "ipython3",
   "version": "3.8.3"
  }
 },
 "nbformat": 4,
 "nbformat_minor": 4
}
