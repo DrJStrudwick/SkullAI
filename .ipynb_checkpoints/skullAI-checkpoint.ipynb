{
 "cells": [
  {
   "cell_type": "markdown",
   "metadata": {},
   "source": [
    "# Skull AI"
   ]
  },
  {
   "cell_type": "markdown",
   "metadata": {},
   "source": [
    "The objective here is to make AI/Bots that can play the deception board/tile game: Skull. See this link [LINK] to a video showing how to play and then the flow diagram in the gitrepo showing the decision flow for  a player.\n",
    "\n",
    "ASSUMPTIONS:\n",
    " - Only 4 players in a game\n",
    " - for now, wont pay attention to previous rounds\n",
    " - simple terms (linear)"
   ]
  },
  {
   "cell_type": "markdown",
   "metadata": {},
   "source": [
    "### Library imports"
   ]
  },
  {
   "cell_type": "code",
   "execution_count": 1,
   "metadata": {},
   "outputs": [],
   "source": [
    "import random\n",
    "from numpy.random import rand, choice\n",
    "import numpy as np\n",
    "import pandas as pd"
   ]
  },
  {
   "cell_type": "markdown",
   "metadata": {},
   "source": [
    "### Player and Game classes"
   ]
  },
  {
   "cell_type": "markdown",
   "metadata": {},
   "source": [
    "Player class.\n",
    "Decisions for the bot to make:\n",
    " - What tile to place first\n",
    " - To bet or place another tile\n",
    "     - binary classifications\n",
    " - What tile to place [DONE]\n",
    "     - binary classification\n",
    " - what to bet\n",
    "     - multiclass classification/ integer prediction\n",
    " - to bet or pass\n",
    "     - binary classification\n",
    " - who to pick when seeking\n",
    "     - multiclass classification\n",
    " \n",
    "Defining a class for the player:\n",
    " - a player needs to be able to place a flower and skull [DONE]\n",
    " - a player needs to be able to remove a tile\n",
    "     - randomly if they're skulled by somone else [DONE]\n",
    "     - choose if they skull themselves\n",
    " - "
   ]
  },
  {
   "cell_type": "code",
   "execution_count": 95,
   "metadata": {},
   "outputs": [],
   "source": [
    "class skullPlayer:\n",
    "    def __init__(self):\n",
    "        self.flowers=3\n",
    "        self.skull=1\n",
    "        self.totalTiles=4\n",
    "        self.hasSkull=True\n",
    "        self.placedTiles=[]\n",
    "        self.point=0\n",
    "        self.theta_tp=(rand(1,30)*2)-1\n",
    "        self.theta_bp=(rand(1,31)*2)-1\n",
    "        self.theta_w2b=(rand(12,95)*2-1)\n",
    "        \n",
    "    def summary(self):\n",
    "        print(\"Flowers: {}\\nSkull: {}\\nPoint: {}\\nPlaced tiles: {}\".format(self.flowers,self.skull,self.point, self.placedTiles))\n",
    "    \n",
    "    def placeFlower(self):\n",
    "        if len(self.placedTiles)<self.totalTiles:\n",
    "            if (len(self.placedTiles)-sum(self.placedTiles))<self.flowers:\n",
    "                self.placedTiles.append(False)\n",
    "                \n",
    "    def placeSkull(self):\n",
    "        if len(self.placedTiles)<self.totalTiles:\n",
    "            if self.hasSkull & (sum(self.placedTiles)==0):\n",
    "                self.placedTiles.append(True)\n",
    "                \n",
    "    def reset(self):\n",
    "        self.placedTiles=[]\n",
    "                \n",
    "    def removeRandom(self):\n",
    "        if self.hasSkull:\n",
    "            if choice([True]+[False]*self.flowers):\n",
    "                self.skull+=-1\n",
    "                self.hasSkull=False\n",
    "            else:\n",
    "                self.flowers+=-1\n",
    "        else:\n",
    "            self.flowers+=-1\n",
    "        self.totalTiles+=-1\n",
    "        self.reset()\n",
    "    \n",
    "    def chooseTileToPlace(self,externalInfo):\n",
    "        \"\"\"\n",
    "        Function to decide what tile to place.\n",
    "        External info should have for each player:\n",
    "        - If they have a point (binary)\n",
    "        - How many tiles they have (numerical)\n",
    "        - How many tiles they have placed (numerical)\n",
    "        - If they have their skull (dual-binary) [1,0] skull, [0,0] unknown, [0,1] no skull \n",
    "        - their place in the turn order (numerical)\n",
    "        - if they're out of the game (binary) [1] out, [0] in\n",
    "        - optional (not implemented)\n",
    "            - if they just lost a tile\n",
    "            - if they just won a point\n",
    "        LAST row should be that on the \"bot\"\n",
    "        Extra\n",
    "        - random float for \"randomness\"\n",
    "        - bias term\n",
    "        therefore external info is a 1x30 vector\n",
    "        \n",
    "        RETURNS\n",
    "        boolean. true, place a skull, false place a flower\n",
    "        \"\"\"\n",
    "        \n",
    "        inVec=np.reshape(y.externalInfo,(-1,1))\n",
    "        inVec=np.concatenate((inVec,np.array([[rand()],[1]])))\n",
    "        \n",
    "        skull = ((1/(1+np.exp(-np.dot(self.theta_tp,inVec))))>=0.5)[0][0]\n",
    "        \n",
    "        if skull:\n",
    "            self.placeSkull()\n",
    "        else:\n",
    "            self.placeFlower()\n",
    "        \n",
    "        return skull\n",
    "    \n",
    "    def placeTile(self,externalInfo):\n",
    "        if any(self.placedTiles):\n",
    "            self.placeFlower()\n",
    "        else:\n",
    "            self.chooseTileToPlace(externalInfo)\n",
    "    \n",
    "    def betOrPlace(self,externalInfo):\n",
    "        \"\"\"\n",
    "        Function to decide to start the betting or place another tile\n",
    "        Same input variables as choosing what to place and \n",
    "        -include if they have placed a skull already (binary) [1] have placed a skull\n",
    "        EXTRA\n",
    "        - random float for \"randomness\"\n",
    "        - bais term\n",
    "        \n",
    "        RETURNS\n",
    "        boolean. true, make a bet, false, place a tile\n",
    "        \"\"\"\n",
    "        inVec=np.reshape(y.externalInfo,(-1,1))\n",
    "        inVec=np.concatenate((inVec,np.array([[int(any(self.placedTiles))],[rand()],[1]])))\n",
    "        \n",
    "        betOrPlace = ((1/(1+np.exp(-np.dot(self.theta_bp,inVec))))>=0.5)[0][0]\n",
    "        \n",
    "        if betOrPlace:\n",
    "            #whatToBet\n",
    "            print(\"make a bet\")\n",
    "            pass\n",
    "        else:\n",
    "            self.placeTile(externalInfo)\n",
    "            \n",
    "    def whatToBet(self,externalInfo,betRec):\n",
    "        \"\"\"\n",
    "        Uses the board state record\n",
    "        \"\"\"\n",
    "        inVec=np.concatenate((np.reshape(y.externalInfo,(-1,1)),np.reshape(betRec,(-1,1)),np.array([[int(any(self.placedTiles))],[rand()],[1]])))\n",
    "        availableBets=np.zeros((1,12))\n",
    "        availableBets[:,0:sum(externalInfo[:,2])]=1\n",
    "        availableBets[:,0:max(np.where(betRec.any(axis=0))[0])+1]=0\n",
    "        inVec=np.concatenate((inVec,availableBets.T))\n",
    "        bet=np.argmax((1/(1+np.exp(-np.dot(self.theta_w2b,inVec))))*availableBets.T)+1\n",
    "        return bet"
   ]
  },
  {
   "cell_type": "markdown",
   "metadata": {},
   "source": [
    "Game glass"
   ]
  },
  {
   "cell_type": "code",
   "execution_count": 111,
   "metadata": {},
   "outputs": [],
   "source": [
    "class skullGame:\n",
    "    def __init__(self,player1,player2,player3,player4):\n",
    "        self.playerArray = [player1,player2,player3,player4]\n",
    "        self.firstPlayerOfRound = random.randint(0,len(self.playerArray)-1)\n",
    "        self.externalInfo = np.array([[0,4,0,1,0,((i-self.firstPlayerOfRound)%4)+1,0] for i in range(1,5)])\n",
    "        self.initPlacement()\n",
    "        self.betRec=np.zeros((len(self.playerArray),(len(self.playerArray)*3)+1))\n",
    "        \n",
    "    def initPlacement(self):\n",
    "        for ind in range(0,len(self.playerArray)):\n",
    "            self.playerArray[ind].chooseTileToPlace(self.externalInfo[list(range(0,ind))+list(range(ind+1,len(y.playerArray)))+[ind],:])\n",
    "            self.externalInfo[ind][2]=1"
   ]
  },
  {
   "cell_type": "markdown",
   "metadata": {},
   "source": [
    "## Testing zone"
   ]
  },
  {
   "cell_type": "code",
   "execution_count": 112,
   "metadata": {},
   "outputs": [],
   "source": [
    "x=skullPlayer()"
   ]
  },
  {
   "cell_type": "code",
   "execution_count": 113,
   "metadata": {},
   "outputs": [
    {
     "name": "stdout",
     "output_type": "stream",
     "text": [
      "Flowers: 3\n",
      "Skull: 1\n",
      "Point: 0\n",
      "Placed tiles: []\n"
     ]
    }
   ],
   "source": [
    "x.summary()"
   ]
  },
  {
   "cell_type": "code",
   "execution_count": 114,
   "metadata": {},
   "outputs": [
    {
     "data": {
      "text/plain": [
       "[False]"
      ]
     },
     "execution_count": 114,
     "metadata": {},
     "output_type": "execute_result"
    }
   ],
   "source": [
    "x.placeFlower()\n",
    "x.placedTiles"
   ]
  },
  {
   "cell_type": "code",
   "execution_count": 115,
   "metadata": {},
   "outputs": [
    {
     "data": {
      "text/plain": [
       "[False, True]"
      ]
     },
     "execution_count": 115,
     "metadata": {},
     "output_type": "execute_result"
    }
   ],
   "source": [
    "x.placeSkull()\n",
    "x.placedTiles"
   ]
  },
  {
   "cell_type": "code",
   "execution_count": 116,
   "metadata": {},
   "outputs": [
    {
     "data": {
      "text/plain": [
       "[False, True]"
      ]
     },
     "execution_count": 116,
     "metadata": {},
     "output_type": "execute_result"
    }
   ],
   "source": [
    "x.placeSkull()\n",
    "x.placedTiles"
   ]
  },
  {
   "cell_type": "code",
   "execution_count": 117,
   "metadata": {},
   "outputs": [
    {
     "name": "stdout",
     "output_type": "stream",
     "text": [
      "Flowers: 2\n",
      "Skull: 1\n",
      "Point: 0\n",
      "Placed tiles: []\n"
     ]
    }
   ],
   "source": [
    "x.removeRandom()\n",
    "x.summary()"
   ]
  },
  {
   "cell_type": "code",
   "execution_count": 118,
   "metadata": {},
   "outputs": [
    {
     "data": {
      "text/plain": [
       "[]"
      ]
     },
     "execution_count": 118,
     "metadata": {},
     "output_type": "execute_result"
    }
   ],
   "source": [
    "x.placedTiles"
   ]
  },
  {
   "cell_type": "code",
   "execution_count": 119,
   "metadata": {},
   "outputs": [],
   "source": [
    "playerList=[skullPlayer() for x in range(0,4)]"
   ]
  },
  {
   "cell_type": "code",
   "execution_count": 120,
   "metadata": {},
   "outputs": [],
   "source": [
    "y=skullGame(*playerList)"
   ]
  },
  {
   "cell_type": "code",
   "execution_count": 121,
   "metadata": {},
   "outputs": [
    {
     "data": {
      "text/plain": [
       "array([[0, 4, 1, 1, 0, 4, 0],\n",
       "       [0, 4, 1, 1, 0, 1, 0],\n",
       "       [0, 4, 1, 1, 0, 2, 0],\n",
       "       [0, 4, 1, 1, 0, 3, 0]])"
      ]
     },
     "execution_count": 121,
     "metadata": {},
     "output_type": "execute_result"
    }
   ],
   "source": [
    "y.externalInfo"
   ]
  },
  {
   "cell_type": "code",
   "execution_count": 122,
   "metadata": {},
   "outputs": [
    {
     "data": {
      "text/plain": [
       "(4, 13)"
      ]
     },
     "execution_count": 122,
     "metadata": {},
     "output_type": "execute_result"
    }
   ],
   "source": [
    "y.betRec.shape"
   ]
  },
  {
   "cell_type": "code",
   "execution_count": 107,
   "metadata": {},
   "outputs": [
    {
     "name": "stdout",
     "output_type": "stream",
     "text": [
      "Flowers: 3\n",
      "Skull: 1\n",
      "Point: 0\n",
      "Placed tiles: [False]\n",
      "Flowers: 3\n",
      "Skull: 1\n",
      "Point: 0\n",
      "Placed tiles: [False]\n",
      "Flowers: 3\n",
      "Skull: 1\n",
      "Point: 0\n",
      "Placed tiles: [True]\n",
      "Flowers: 3\n",
      "Skull: 1\n",
      "Point: 0\n",
      "Placed tiles: [True]\n"
     ]
    }
   ],
   "source": [
    "for player in playerList:\n",
    "    player.summary()"
   ]
  },
  {
   "cell_type": "code",
   "execution_count": 38,
   "metadata": {},
   "outputs": [
    {
     "data": {
      "text/plain": [
       "False"
      ]
     },
     "execution_count": 38,
     "metadata": {},
     "output_type": "execute_result"
    }
   ],
   "source": [
    "any(playerList[-1].placedTiles)"
   ]
  },
  {
   "cell_type": "code",
   "execution_count": 66,
   "metadata": {},
   "outputs": [
    {
     "data": {
      "text/plain": [
       "array([[0, 4, 1, 1, 0, 4, 0],\n",
       "       [0, 4, 1, 1, 0, 1, 0],\n",
       "       [0, 4, 1, 1, 0, 2, 0],\n",
       "       [0, 4, 1, 1, 0, 3, 0]])"
      ]
     },
     "execution_count": 66,
     "metadata": {},
     "output_type": "execute_result"
    }
   ],
   "source": [
    "ind=3\n",
    "y.externalInfo[list(range(0,ind))+list(range(ind+1,len(y.playerArray)))+[ind],:]"
   ]
  },
  {
   "cell_type": "code",
   "execution_count": 63,
   "metadata": {},
   "outputs": [
    {
     "data": {
      "text/plain": [
       "array([[0, 4, 1, 1, 0, 4, 0],\n",
       "       [0, 4, 1, 1, 0, 1, 0],\n",
       "       [0, 4, 1, 1, 0, 2, 0],\n",
       "       [0, 4, 1, 1, 0, 3, 0]])"
      ]
     },
     "execution_count": 63,
     "metadata": {},
     "output_type": "execute_result"
    }
   ],
   "source": [
    "y.externalInfo"
   ]
  },
  {
   "cell_type": "code",
   "execution_count": 73,
   "metadata": {},
   "outputs": [
    {
     "data": {
      "text/plain": [
       "0"
      ]
     },
     "execution_count": 73,
     "metadata": {},
     "output_type": "execute_result"
    }
   ],
   "source": [
    "int(any(player.placedTiles))"
   ]
  },
  {
   "cell_type": "code",
   "execution_count": 70,
   "metadata": {},
   "outputs": [
    {
     "data": {
      "text/plain": [
       "int"
      ]
     },
     "execution_count": 70,
     "metadata": {},
     "output_type": "execute_result"
    }
   ],
   "source": [
    "type(1)"
   ]
  },
  {
   "cell_type": "code",
   "execution_count": 79,
   "metadata": {},
   "outputs": [
    {
     "data": {
      "text/html": [
       "<div>\n",
       "<style scoped>\n",
       "    .dataframe tbody tr th:only-of-type {\n",
       "        vertical-align: middle;\n",
       "    }\n",
       "\n",
       "    .dataframe tbody tr th {\n",
       "        vertical-align: top;\n",
       "    }\n",
       "\n",
       "    .dataframe thead th {\n",
       "        text-align: right;\n",
       "    }\n",
       "</style>\n",
       "<table border=\"1\" class=\"dataframe\">\n",
       "  <thead>\n",
       "    <tr style=\"text-align: right;\">\n",
       "      <th></th>\n",
       "      <th>has_point</th>\n",
       "      <th>tiles</th>\n",
       "      <th>tiles_place</th>\n",
       "      <th>skull_has</th>\n",
       "      <th>skull_none</th>\n",
       "      <th>turn_order</th>\n",
       "      <th>out</th>\n",
       "    </tr>\n",
       "  </thead>\n",
       "  <tbody>\n",
       "    <tr>\n",
       "      <th>player1</th>\n",
       "      <td>0</td>\n",
       "      <td>4</td>\n",
       "      <td>1</td>\n",
       "      <td>1</td>\n",
       "      <td>0</td>\n",
       "      <td>4</td>\n",
       "      <td>0</td>\n",
       "    </tr>\n",
       "    <tr>\n",
       "      <th>player2</th>\n",
       "      <td>0</td>\n",
       "      <td>4</td>\n",
       "      <td>1</td>\n",
       "      <td>1</td>\n",
       "      <td>0</td>\n",
       "      <td>1</td>\n",
       "      <td>0</td>\n",
       "    </tr>\n",
       "    <tr>\n",
       "      <th>player3</th>\n",
       "      <td>0</td>\n",
       "      <td>4</td>\n",
       "      <td>1</td>\n",
       "      <td>1</td>\n",
       "      <td>0</td>\n",
       "      <td>2</td>\n",
       "      <td>0</td>\n",
       "    </tr>\n",
       "    <tr>\n",
       "      <th>player4</th>\n",
       "      <td>0</td>\n",
       "      <td>4</td>\n",
       "      <td>1</td>\n",
       "      <td>1</td>\n",
       "      <td>0</td>\n",
       "      <td>3</td>\n",
       "      <td>0</td>\n",
       "    </tr>\n",
       "  </tbody>\n",
       "</table>\n",
       "</div>"
      ],
      "text/plain": [
       "         has_point  tiles  tiles_place  skull_has  skull_none  turn_order  out\n",
       "player1          0      4            1          1           0           4    0\n",
       "player2          0      4            1          1           0           1    0\n",
       "player3          0      4            1          1           0           2    0\n",
       "player4          0      4            1          1           0           3    0"
      ]
     },
     "execution_count": 79,
     "metadata": {},
     "output_type": "execute_result"
    }
   ],
   "source": [
    "pd.DataFrame(y.externalInfo, \n",
    "             index=[\"player1\",\"player2\",\"player3\",\"player4\"],\n",
    "             columns=[\"has_point\",\"tiles\",\"tiles_placed\",\"skull_has\",\"skull_none\",\"turn_order\",\"out\"])"
   ]
  },
  {
   "cell_type": "code",
   "execution_count": 80,
   "metadata": {},
   "outputs": [
    {
     "data": {
      "text/plain": [
       "12"
      ]
     },
     "execution_count": 80,
     "metadata": {},
     "output_type": "execute_result"
    }
   ],
   "source": [
    "#per player\n",
    "4*3 #binary entry for each possible bet, entry of 1 if the player has made it.\n",
    "1 #binary entry if the player has passed\n",
    "#extra\n",
    "4*3 # binary available bets that could be made at this point\n",
    "1 #bias term \n",
    "1 #randomness term"
   ]
  },
  {
   "cell_type": "code",
   "execution_count": 150,
   "metadata": {},
   "outputs": [
    {
     "data": {
      "text/plain": [
       "(4, 7)"
      ]
     },
     "execution_count": 150,
     "metadata": {},
     "output_type": "execute_result"
    }
   ],
   "source": [
    "y.externalInfo.shape"
   ]
  },
  {
   "cell_type": "code",
   "execution_count": 151,
   "metadata": {},
   "outputs": [
    {
     "data": {
      "text/plain": [
       "(4, 13)"
      ]
     },
     "execution_count": 151,
     "metadata": {},
     "output_type": "execute_result"
    }
   ],
   "source": [
    "y.betRec.shape"
   ]
  },
  {
   "cell_type": "code",
   "execution_count": 154,
   "metadata": {},
   "outputs": [
    {
     "data": {
      "text/plain": [
       "95"
      ]
     },
     "execution_count": 154,
     "metadata": {},
     "output_type": "execute_result"
    }
   ],
   "source": [
    "4*(7+13)+3+12"
   ]
  },
  {
   "cell_type": "code",
   "execution_count": 165,
   "metadata": {},
   "outputs": [
    {
     "data": {
      "text/plain": [
       "1"
      ]
     },
     "execution_count": 165,
     "metadata": {},
     "output_type": "execute_result"
    }
   ],
   "source": [
    "np.argmax((1/(1+np.exp(-np.ones(3))))*np.array([0,1,0]))"
   ]
  },
  {
   "cell_type": "code",
   "execution_count": null,
   "metadata": {},
   "outputs": [],
   "source": []
  }
 ],
 "metadata": {
  "kernelspec": {
   "display_name": "Python 3",
   "language": "python",
   "name": "python3"
  },
  "language_info": {
   "codemirror_mode": {
    "name": "ipython",
    "version": 3
   },
   "file_extension": ".py",
   "mimetype": "text/x-python",
   "name": "python",
   "nbconvert_exporter": "python",
   "pygments_lexer": "ipython3",
   "version": "3.8.3"
  }
 },
 "nbformat": 4,
 "nbformat_minor": 4
}
